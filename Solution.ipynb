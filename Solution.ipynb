{
 "cells": [
  {
   "cell_type": "markdown",
   "metadata": {},
   "source": [
    "# PART I : QUESTION BASED"
   ]
  },
  {
   "cell_type": "code",
   "execution_count": 1,
   "metadata": {},
   "outputs": [],
   "source": [
    "import pandas as pd;\n",
    "import numpy as np;\n",
    "import scipy.stats as stats\n",
    "import matplotlib.pyplot as plt;\n",
    "import seaborn as sns\n",
    "\n",
    "sns.set(color_codes=True)\n",
    "%matplotlib inline"
   ]
  },
  {
   "cell_type": "markdown",
   "metadata": {},
   "source": [
    "## Question 1"
   ]
  },
  {
   "cell_type": "code",
   "execution_count": 2,
   "metadata": {},
   "outputs": [
    {
     "data": {
      "text/html": [
       "<div>\n",
       "<style scoped>\n",
       "    .dataframe tbody tr th:only-of-type {\n",
       "        vertical-align: middle;\n",
       "    }\n",
       "\n",
       "    .dataframe tbody tr th {\n",
       "        vertical-align: top;\n",
       "    }\n",
       "\n",
       "    .dataframe thead th {\n",
       "        text-align: right;\n",
       "    }\n",
       "</style>\n",
       "<table border=\"1\" class=\"dataframe\">\n",
       "  <thead>\n",
       "    <tr style=\"text-align: right;\">\n",
       "      <th></th>\n",
       "      <th>Actually placed and order for Product A - Yes</th>\n",
       "      <th>Actually placed and order for Product A - No</th>\n",
       "      <th>Total</th>\n",
       "    </tr>\n",
       "    <tr>\n",
       "      <th>Planned to purchase Product A</th>\n",
       "      <th></th>\n",
       "      <th></th>\n",
       "      <th></th>\n",
       "    </tr>\n",
       "  </thead>\n",
       "  <tbody>\n",
       "    <tr>\n",
       "      <th>Yes</th>\n",
       "      <td>400</td>\n",
       "      <td>100</td>\n",
       "      <td>500</td>\n",
       "    </tr>\n",
       "    <tr>\n",
       "      <th>No</th>\n",
       "      <td>200</td>\n",
       "      <td>1300</td>\n",
       "      <td>1500</td>\n",
       "    </tr>\n",
       "    <tr>\n",
       "      <th>Total</th>\n",
       "      <td>600</td>\n",
       "      <td>1400</td>\n",
       "      <td>2000</td>\n",
       "    </tr>\n",
       "  </tbody>\n",
       "</table>\n",
       "</div>"
      ],
      "text/plain": [
       "                               Actually placed and order for Product A - Yes  \\\n",
       "Planned to purchase Product A                                                  \n",
       "Yes                                                                      400   \n",
       "No                                                                       200   \n",
       "Total                                                                    600   \n",
       "\n",
       "                               Actually placed and order for Product A - No  \\\n",
       "Planned to purchase Product A                                                 \n",
       "Yes                                                                     100   \n",
       "No                                                                     1300   \n",
       "Total                                                                  1400   \n",
       "\n",
       "                               Total  \n",
       "Planned to purchase Product A         \n",
       "Yes                              500  \n",
       "No                              1500  \n",
       "Total                           2000  "
      ]
     },
     "execution_count": 2,
     "metadata": {},
     "output_type": "execute_result"
    }
   ],
   "source": [
    "table  = pd.DataFrame([[400,100,500],[200,1300,1500],[600,1400,2000]],columns=[\"Actually placed and order for Product A - Yes\",\"Actually placed and order for Product A - No\",\"Total\"],index=[\"Yes\",\"No\",\"Total\"])\n",
    "table.index.name = \"Planned to purchase Product A\"\n",
    "\n",
    "table"
   ]
  },
  {
   "cell_type": "markdown",
   "metadata": {},
   "source": [
    "### Question 1.1 : Find Joint Probability of the people who planned to purchase and placed an order.\n",
    "#### Solution : \n",
    "Joint Probability  is\n",
    " ```\n",
    "     P( Planned and Placed)  =  400 /2000 = 0.2\n",
    " ```\n",
    " from table "
   ]
  },
  {
   "cell_type": "markdown",
   "metadata": {},
   "source": [
    "### Question 1.2 : Find Joint probability of the people who planned to purchase and actually placed an order, given that people planned to purchase?"
   ]
  },
  {
   "cell_type": "markdown",
   "metadata": {},
   "source": [
    "#### Solution: \n",
    "From the table Probability is 400/600 = 0.63\n"
   ]
  },
  {
   "cell_type": "markdown",
   "metadata": {},
   "source": [
    "## Question 2"
   ]
  },
  {
   "cell_type": "markdown",
   "metadata": {},
   "source": [
    "#### Given Info:\n",
    "Sample of 10 items, Probability of failure : 5% = 0.05"
   ]
  },
  {
   "cell_type": "markdown",
   "metadata": {},
   "source": [
    "### A: Probability that none of the items are defective"
   ]
  },
  {
   "cell_type": "markdown",
   "metadata": {},
   "source": [
    "#### Solution:\n",
    "> The distribution is <b>binomial</b> here, with n =10, p = 0.05\n",
    "> Probability of none of items being defective is\n",
    "\n",
    "(1-p)<sup>n</sup> = (1- 0.05) <sup>10</sup>"
   ]
  },
  {
   "cell_type": "code",
   "execution_count": null,
   "metadata": {},
   "outputs": [],
   "source": [
    "pow(1-0.05,10)"
   ]
  },
  {
   "cell_type": "markdown",
   "metadata": {},
   "source": [
    "Answer is 0.598 ~= 0.6 \n",
    "\n",
    "Verifying the same using scipy stats library"
   ]
  },
  {
   "cell_type": "code",
   "execution_count": null,
   "metadata": {},
   "outputs": [],
   "source": [
    "n=10\n",
    "p=0.05\n",
    "k=np.arange(0,n+1)\n",
    "binomial = stats.binom.pmf(k,n,p)\n",
    "print(binomial)"
   ]
  },
  {
   "cell_type": "code",
   "execution_count": null,
   "metadata": {},
   "outputs": [],
   "source": [
    "print(binomial[0],\" is probability that none are defective\")"
   ]
  },
  {
   "cell_type": "markdown",
   "metadata": {},
   "source": [
    "### B : Probability that exactly one of the items is defective"
   ]
  },
  {
   "cell_type": "markdown",
   "metadata": {},
   "source": [
    "#### Solution: \n",
    "From the above computation, this value is binomial[1], which is mathematically computed as \n",
    "n<sub>c<sub>1</sub></sub> (p<sup>1</sup>)((1-p)<sup>(n-1)</sup>) :"
   ]
  },
  {
   "cell_type": "code",
   "execution_count": null,
   "metadata": {},
   "outputs": [],
   "source": [
    "print(binomial[1])"
   ]
  },
  {
   "cell_type": "markdown",
   "metadata": {},
   "source": [
    "### C: Probability that two or fewer of the items are defective\n"
   ]
  },
  {
   "cell_type": "markdown",
   "metadata": {},
   "source": [
    "#### Solution\n",
    "Probability that two or fewer\n",
    "\n",
    "= Prob (None) + Prob(1) + Prob(2)\n",
    "\n",
    "= binomial[0] + binomial[1] + binomial[2]"
   ]
  },
  {
   "cell_type": "code",
   "execution_count": null,
   "metadata": {},
   "outputs": [],
   "source": [
    "print(sum(binomial[0:3]),\" is the Answer\")"
   ]
  },
  {
   "cell_type": "markdown",
   "metadata": {},
   "source": [
    "#### D : Probability that three or more of them are defective:\n"
   ]
  },
  {
   "cell_type": "markdown",
   "metadata": {},
   "source": [
    "### Solution \n",
    "Prob ( 3 and more)\n",
    "= Prob(3) + Prob(4) + ...Prob(10)\n",
    "\n",
    "= binomial[3] + binomial[4]+ .. binomial[10]\n",
    "\n",
    "= 1 - (binomial[0] + binomial[1]+ binomial[2]) "
   ]
  },
  {
   "cell_type": "code",
   "execution_count": null,
   "metadata": {},
   "outputs": [],
   "source": [
    "print(1- sum(binomial[0:3]), \" is the answer\")\n",
    "print(sum(binomial[3:]), \" is the answer\")\n"
   ]
  },
  {
   "cell_type": "markdown",
   "metadata": {},
   "source": [
    "## Question 3\n",
    "\n",
    "#### Given Info :\n",
    "Avg cars per week = 3"
   ]
  },
  {
   "cell_type": "markdown",
   "metadata": {},
   "source": [
    "### A: Probability that in given week he will sell some cars \n",
    "#### Solution : \n",
    "\n",
    "- Some cars => one or more\n",
    "- The distribution is poisson so\n",
    "```\n",
    "    P(some cars)= P(one or more)\n",
    "                = 1 - P(no cars)\n",
    "```"
   ]
  },
  {
   "cell_type": "code",
   "execution_count": null,
   "metadata": {},
   "outputs": [],
   "source": [
    "n = np.arange(0,20);\n",
    "rate = 3;\n",
    "poisson_dist = stats.poisson.pmf(n,rate)\n",
    "print('Probability of some cars being sold in a given week is ', 1-poisson_dist[0])"
   ]
  },
  {
   "cell_type": "markdown",
   "metadata": {},
   "source": [
    "### B: Probability that in a given week he will sell 2 or more but less than 5 cars.\n",
    "\n",
    "#### Solution:\n",
    "\n",
    "Sell 2 or more but less than 5 cars \n",
    "- is equivalent to Prob(2) + Prob(3) + Prob(4)"
   ]
  },
  {
   "cell_type": "code",
   "execution_count": null,
   "metadata": {},
   "outputs": [],
   "source": [
    "print(sum(poisson_dist[2:5]), \" is the prob that in a given week he will sell 2 or more but less than 5 cars\")"
   ]
  },
  {
   "cell_type": "markdown",
   "metadata": {},
   "source": [
    "### C: Plot the poisson Dist function for Cumulative probability of cars sold per week Vs number of cars per week. \n"
   ]
  },
  {
   "cell_type": "code",
   "execution_count": null,
   "metadata": {},
   "outputs": [],
   "source": [
    "cumulative_dist= stats.poisson.cdf(n,rate)\n",
    "fig, (ax1, ax2) = plt.subplots(1,2);\n",
    "ax1.set_title(\"Cumulative Probability Distribution\")\n",
    "ax1.set_xlabel(\"number of cars sold per week\");\n",
    "ax1.plot(n,cumulative_dist,'o-');\n",
    "ax2.set_title(\"Probability mass function\");\n",
    "ax2.set_xlabel(\"number of cars sold per week\");\n",
    "ax2.plot(n,poisson_dist,'o-');\n",
    "fig.tight_layout()"
   ]
  },
  {
   "cell_type": "markdown",
   "metadata": {},
   "source": [
    "## Question 4\n",
    "\n",
    "#### Given Info:\n",
    "percentage of orders that are accurate = 86.8%.\n",
    "No of orders = 3\n",
    "\n",
    "### A: Probability that all three orders are correct?\n",
    "\n",
    "#### Solution :\n",
    "- The probability follows <b>binomial distribution </b> because each order placed to a bot will be either correctly or incorrectly recognised. \n",
    "\n",
    "```\n",
    "Probability that all three order are correct \n",
    " =  P( 1st order correct) * P(2nd correct) * P(3rd order correct)\n",
    "``` \n",
    "(We multiply them because they are independent events)"
   ]
  },
  {
   "cell_type": "code",
   "execution_count": null,
   "metadata": {},
   "outputs": [],
   "source": [
    "order  = np.arange(0,4);\n",
    "p = 0.868;\n",
    "binary_dist = stats.binom.pmf(order,3,p)\n",
    "print(\"probability that all three orders are correct is \",binary_dist[3])"
   ]
  },
  {
   "cell_type": "markdown",
   "metadata": {},
   "source": [
    "### B : Probability that none of three orders will be recognised correctly?\n",
    "\n",
    "#### Solution : \n",
    "```\n",
    "Probability that none of orders are correct \n",
    "    = P(1st incorrect) * P(2nd incorrect) * P(3rd incorrect)  \n",
    "```"
   ]
  },
  {
   "cell_type": "code",
   "execution_count": null,
   "metadata": {},
   "outputs": [],
   "source": [
    "print(\"Probability that none are correct is \",binary_dist[0]);"
   ]
  },
  {
   "cell_type": "markdown",
   "metadata": {},
   "source": [
    "### C: Probability that atleast two of three orders are correct?\n",
    "\n",
    "#### Solution\n",
    "```\n",
    "Atleast two  = P (2 orders correct) + P (3 orders  correct) \n",
    "```"
   ]
  },
  {
   "cell_type": "code",
   "execution_count": null,
   "metadata": {},
   "outputs": [],
   "source": [
    "print(\"Probability that atleast two are correct is \",sum(binary_dist[2:]))"
   ]
  },
  {
   "cell_type": "markdown",
   "metadata": {},
   "source": [
    "## Question 5 \n",
    "#### Given Info: \n",
    "No of professionals= 300\n",
    "\n",
    "Mean  = 60\n",
    "\n",
    "Standard deviation = 12\n",
    "\n",
    "Distribution is normal"
   ]
  },
  {
   "cell_type": "markdown",
   "metadata": {},
   "source": [
    "### A: Percentage of students who score more than 80\n",
    "#### Solution : \n",
    "\n",
    "probability that students are More than 80 =  1 - prob < 80"
   ]
  },
  {
   "cell_type": "code",
   "execution_count": null,
   "metadata": {},
   "outputs": [],
   "source": [
    "mean = 60\n",
    "std= 12"
   ]
  },
  {
   "cell_type": "code",
   "execution_count": null,
   "metadata": {},
   "outputs": [],
   "source": [
    "#z = (x- mean) /std_deviation\n",
    "x = 80\n",
    "z = (80 - mean)/std\n",
    "cdf_left = stats.norm.cdf(z); ## this give the prob of students who scores < 80\n",
    "print(\"percentage of students who scored more than 80 is \",(1-cdf_left)*100)"
   ]
  },
  {
   "cell_type": "markdown",
   "metadata": {},
   "source": [
    "### B: Percentage of students whose score is < 50\n",
    "#### Solution:\n"
   ]
  },
  {
   "cell_type": "code",
   "execution_count": null,
   "metadata": {},
   "outputs": [],
   "source": [
    "#step1 : compute z \n",
    "z = (50-mean)/std;\n",
    "#Calculate prob \n",
    "prob  = stats.norm.cdf(z);\n",
    "#print answer\n",
    "print(\"percentaget of students who scored < 50 is \",(prob) * 100)"
   ]
  },
  {
   "cell_type": "markdown",
   "metadata": {},
   "source": [
    "### C: What is the distinction mark so that 10 % students are awarded?\n",
    "\n",
    "#### Solution :\n",
    "\n",
    "Lets say that the mark is X,\n",
    "\n",
    "Probability of number of students that score atleast X is 10 % = 0.1\n",
    "\n",
    "This value corresponds to the area under the curve from the score X and above.\n",
    "\n",
    "To find X, consider the area under the curve for all values < X = 0.9\n",
    "\n",
    "Objective: Find X"
   ]
  },
  {
   "cell_type": "code",
   "execution_count": null,
   "metadata": {},
   "outputs": [],
   "source": [
    "#computing z score based on probability\n",
    "z = stats.norm.ppf(.9);\n",
    "# z = (x-mean)/std => x = z*std +mean\n",
    "X = z*std+ mean;\n",
    "print(\"The distinction mark should be \",X);"
   ]
  },
  {
   "cell_type": "markdown",
   "metadata": {},
   "source": [
    "#### Let's verify our distinction mark by computing prob of students scoring > 75.37"
   ]
  },
  {
   "cell_type": "code",
   "execution_count": null,
   "metadata": {},
   "outputs": [],
   "source": [
    "print((1- stats.norm.cdf(75.37,mean, std)) * 100);"
   ]
  },
  {
   "cell_type": "markdown",
   "metadata": {},
   "source": [
    "# PART II : PROJECT BASED"
   ]
  },
  {
   "cell_type": "code",
   "execution_count": null,
   "metadata": {},
   "outputs": [],
   "source": [
    "tournament_data = pd.read_csv(\"DS - Part2 - Basketball.csv\",parse_dates=True);\n",
    "final_data = tournament_data.copy()\n",
    "tournament_data.head()"
   ]
  },
  {
   "cell_type": "code",
   "execution_count": null,
   "metadata": {},
   "outputs": [],
   "source": [
    "print(tournament_data.columns)\n",
    "print(tournament_data.shape)"
   ]
  },
  {
   "cell_type": "markdown",
   "metadata": {},
   "source": [
    "### Data Cleaning and Refactoring"
   ]
  },
  {
   "cell_type": "code",
   "execution_count": null,
   "metadata": {},
   "outputs": [],
   "source": [
    "## Convert the highestPositionHeld to 5 Ranks\n",
    "# If Position held is 1 or 2,we rank them Champion and Runner up\n",
    "# If the position held <=5 ,<=10,<=20 , we rank them Top 5, Top 10, Top 20 respectively\n",
    "\n",
    "positions= tournament_data.HighestPositionHeld.unique();\n",
    "\n",
    "rank_position =dict();\n",
    "\n",
    "for pos_number in positions:\n",
    "    if(pos_number==1):\n",
    "        rank_position[pos_number] = 'Champion'\n",
    "    elif(pos_number==2):\n",
    "        rank_position[pos_number]='Runnerup'\n",
    "    elif(pos_number<=5):\n",
    "        rank_position[pos_number] = 'Top 5'\n",
    "    elif pos_number<=10:\n",
    "        rank_position[pos_number] = 'Top 10'\n",
    "    else: \n",
    "        rank_position[pos_number] = 'Top 20'\n",
    "\n",
    "rank = []\n",
    "\n",
    "for index,value in tournament_data.HighestPositionHeld.items():\n",
    "    rank.append(rank_position[tournament_data.HighestPositionHeld[index]])\n",
    "\n",
    "final_data['Highest_Rank']= pd.Series(rank)\n",
    "\n",
    "#Drop the HighestPositionHeld Columns as it is no longer required.\n",
    "final_data.drop('HighestPositionHeld',axis=1,inplace=True)\n",
    "final_data.head(3)"
   ]
  },
  {
   "cell_type": "code",
   "execution_count": null,
   "metadata": {},
   "outputs": [],
   "source": [
    "#Cleaning up the TeamLaunch entries\n",
    "launch=tournament_data['TeamLaunch'].str.extract(r'^(\\d{4})', expand=False)\n",
    "final_data[\"TeamLauchYear\"] = pd.to_numeric(launch)\n",
    "final_data.drop('TeamLaunch',axis=1,inplace=True)\n",
    "final_data.head(3)"
   ]
  },
  {
   "cell_type": "code",
   "execution_count": null,
   "metadata": {},
   "outputs": [],
   "source": [
    "#Drop the last row - Team 61 since there is no data availble for most of the columns\n",
    "final_data= final_data[:60]"
   ]
  },
  {
   "cell_type": "code",
   "execution_count": null,
   "metadata": {},
   "outputs": [],
   "source": [
    "final_data.tail(3)"
   ]
  },
  {
   "cell_type": "code",
   "execution_count": null,
   "metadata": {},
   "outputs": [],
   "source": [
    "final_data= final_data.convert_dtypes()\n",
    "final_data.info()\n"
   ]
  },
  {
   "cell_type": "code",
   "execution_count": null,
   "metadata": {},
   "outputs": [],
   "source": [
    "final_data.replace({'-':'0'},inplace=True)\n",
    "for col in final_data.columns[1:]:\n",
    "    if(col!='Highest_Rank'):\n",
    "        final_data[col] = final_data[col].astype(str).astype(int)\n",
    "    \n",
    "final_data.info()"
   ]
  },
  {
   "cell_type": "markdown",
   "metadata": {},
   "source": [
    "### Exploratory Data Analysis"
   ]
  },
  {
   "cell_type": "code",
   "execution_count": null,
   "metadata": {},
   "outputs": [],
   "source": [
    "final_data.describe()"
   ]
  },
  {
   "cell_type": "markdown",
   "metadata": {},
   "source": [
    "#### Observation:\n",
    "- "
   ]
  },
  {
   "cell_type": "code",
   "execution_count": null,
   "metadata": {},
   "outputs": [],
   "source": [
    "sns.histplot(final_data, x=\"Score\",y=\"PlayedGames\",hue=\"WonGames\",bins=10);"
   ]
  },
  {
   "cell_type": "code",
   "execution_count": null,
   "metadata": {},
   "outputs": [],
   "source": [
    "sns.relplot"
   ]
  },
  {
   "cell_type": "code",
   "execution_count": null,
   "metadata": {},
   "outputs": [],
   "source": [
    "final_data.corr()"
   ]
  },
  {
   "cell_type": "code",
   "execution_count": null,
   "metadata": {},
   "outputs": [],
   "source": [
    "#Pick out all the columns that are not categorical and then plot heatmap for correlation matrix \n",
    "numerical_data = final_data.loc[:,final_data.dtypes==np.int64]\n",
    "plt.figure(figsize=(20,10))\n",
    "sns.heatmap(numerical_data.corr(),annot=True);"
   ]
  },
  {
   "cell_type": "code",
   "execution_count": null,
   "metadata": {},
   "outputs": [],
   "source": [
    "plt.figure(figsize=(20,10))\n",
    "sns.boxplot(x=\"BasketGiven\",y=\"Highest_Rank\",data=final_data);"
   ]
  },
  {
   "cell_type": "markdown",
   "metadata": {},
   "source": [
    "### Inference: \n",
    "As the number of games played increases, the team's score so far increases "
   ]
  },
  {
   "cell_type": "code",
   "execution_count": null,
   "metadata": {},
   "outputs": [],
   "source": [
    "sns.scatterplot(x=\"PlayedGames\",y=\"LostGames\",hue=\"TeamLauchYear\",data=final_data)"
   ]
  },
  {
   "cell_type": "code",
   "execution_count": null,
   "metadata": {},
   "outputs": [],
   "source": [
    "sns.lineplot(x=\"BasketGiven\",y=\"WonGames\",hue=\"TeamLauchYear\",data=final_data,linewidth=2.5);"
   ]
  },
  {
   "cell_type": "code",
   "execution_count": null,
   "metadata": {},
   "outputs": [],
   "source": [
    "sns.scatterplot(x=\"Tournament\",y=\"LostGames\",data=final_data,hue=\"Highest_Rank\")"
   ]
  },
  {
   "cell_type": "code",
   "execution_count": null,
   "metadata": {},
   "outputs": [],
   "source": [
    "sns.scatterplot(x=\"PlayedGames\",y=\"Score\",hue=\"WonGames\",data=final_data)"
   ]
  },
  {
   "cell_type": "code",
   "execution_count": null,
   "metadata": {},
   "outputs": [],
   "source": [
    "sns.scatterplot(x=\"TeamLauchYear\",y=\"WonGames\",data=final_data)"
   ]
  },
  {
   "cell_type": "code",
   "execution_count": null,
   "metadata": {},
   "outputs": [],
   "source": [
    "sns.scatterplot(x=\"PlayedGames\",y=\"WonGames\",hue=\"TeamLauchYear\",data=final_data)"
   ]
  },
  {
   "cell_type": "code",
   "execution_count": null,
   "metadata": {},
   "outputs": [],
   "source": [
    "tournament_data.HighestPositionHeld.value_counts()"
   ]
  },
  {
   "cell_type": "code",
   "execution_count": null,
   "metadata": {},
   "outputs": [],
   "source": [
    "sns.boxplot(y=tournament_data.BasketScored,data = tournament_data);"
   ]
  },
  {
   "cell_type": "code",
   "execution_count": null,
   "metadata": {},
   "outputs": [],
   "source": [
    "tournament_data.boxplot(column=\"BasketScored\",return_type='axes',figsize=(8,8));"
   ]
  },
  {
   "cell_type": "code",
   "execution_count": null,
   "metadata": {},
   "outputs": [],
   "source": [
    "tournament_data.columns"
   ]
  },
  {
   "cell_type": "code",
   "execution_count": null,
   "metadata": {},
   "outputs": [],
   "source": [
    "game_plots  = [\"Score\", \"PlayedGames\", \"WonGames\", \"BasketScored\",\"LostGames\"]\n",
    "sns.pairplot(tournament_data[game_plots]);"
   ]
  },
  {
   "cell_type": "markdown",
   "metadata": {},
   "source": [
    "# PART 3 : PROJECT BASED"
   ]
  },
  {
   "cell_type": "markdown",
   "metadata": {},
   "source": [
    "## 1 Data WareHouse :  Read the CSV File "
   ]
  },
  {
   "cell_type": "code",
   "execution_count": 3,
   "metadata": {},
   "outputs": [],
   "source": [
    "startup_data=pd.read_csv('DS - Part3 - CompanyX_EU.csv')\n",
    "final_startup_data = startup_data.copy(); "
   ]
  },
  {
   "cell_type": "code",
   "execution_count": 4,
   "metadata": {},
   "outputs": [
    {
     "data": {
      "text/html": [
       "<div>\n",
       "<style scoped>\n",
       "    .dataframe tbody tr th:only-of-type {\n",
       "        vertical-align: middle;\n",
       "    }\n",
       "\n",
       "    .dataframe tbody tr th {\n",
       "        vertical-align: top;\n",
       "    }\n",
       "\n",
       "    .dataframe thead th {\n",
       "        text-align: right;\n",
       "    }\n",
       "</style>\n",
       "<table border=\"1\" class=\"dataframe\">\n",
       "  <thead>\n",
       "    <tr style=\"text-align: right;\">\n",
       "      <th></th>\n",
       "      <th>Startup</th>\n",
       "      <th>Product</th>\n",
       "      <th>Funding</th>\n",
       "      <th>Event</th>\n",
       "      <th>Result</th>\n",
       "      <th>OperatingState</th>\n",
       "    </tr>\n",
       "  </thead>\n",
       "  <tbody>\n",
       "    <tr>\n",
       "      <th>0</th>\n",
       "      <td>2600Hz</td>\n",
       "      <td>2600hz.com</td>\n",
       "      <td>NaN</td>\n",
       "      <td>Disrupt SF 2013</td>\n",
       "      <td>Contestant</td>\n",
       "      <td>Operating</td>\n",
       "    </tr>\n",
       "    <tr>\n",
       "      <th>1</th>\n",
       "      <td>3DLT</td>\n",
       "      <td>3dlt.com</td>\n",
       "      <td>$630K</td>\n",
       "      <td>Disrupt NYC 2013</td>\n",
       "      <td>Contestant</td>\n",
       "      <td>Closed</td>\n",
       "    </tr>\n",
       "    <tr>\n",
       "      <th>2</th>\n",
       "      <td>3DPrinterOS</td>\n",
       "      <td>3dprinteros.com</td>\n",
       "      <td>NaN</td>\n",
       "      <td>Disrupt SF 2016</td>\n",
       "      <td>Contestant</td>\n",
       "      <td>Operating</td>\n",
       "    </tr>\n",
       "    <tr>\n",
       "      <th>3</th>\n",
       "      <td>3Dprintler</td>\n",
       "      <td>3dprintler.com</td>\n",
       "      <td>$1M</td>\n",
       "      <td>Disrupt NY 2016</td>\n",
       "      <td>Audience choice</td>\n",
       "      <td>Operating</td>\n",
       "    </tr>\n",
       "    <tr>\n",
       "      <th>4</th>\n",
       "      <td>42 Technologies</td>\n",
       "      <td>42technologies.com</td>\n",
       "      <td>NaN</td>\n",
       "      <td>Disrupt NYC 2013</td>\n",
       "      <td>Contestant</td>\n",
       "      <td>Operating</td>\n",
       "    </tr>\n",
       "  </tbody>\n",
       "</table>\n",
       "</div>"
      ],
      "text/plain": [
       "           Startup             Product Funding             Event  \\\n",
       "0           2600Hz          2600hz.com     NaN   Disrupt SF 2013   \n",
       "1             3DLT            3dlt.com   $630K  Disrupt NYC 2013   \n",
       "2      3DPrinterOS     3dprinteros.com     NaN   Disrupt SF 2016   \n",
       "3       3Dprintler      3dprintler.com     $1M   Disrupt NY 2016   \n",
       "4  42 Technologies  42technologies.com     NaN  Disrupt NYC 2013   \n",
       "\n",
       "            Result OperatingState  \n",
       "0       Contestant      Operating  \n",
       "1       Contestant         Closed  \n",
       "2       Contestant      Operating  \n",
       "3  Audience choice      Operating  \n",
       "4       Contestant      Operating  "
      ]
     },
     "execution_count": 4,
     "metadata": {},
     "output_type": "execute_result"
    }
   ],
   "source": [
    "startup_data.head()"
   ]
  },
  {
   "cell_type": "markdown",
   "metadata": {},
   "source": [
    "## 2. Data Exploration"
   ]
  },
  {
   "cell_type": "code",
   "execution_count": 5,
   "metadata": {},
   "outputs": [
    {
     "data": {
      "text/plain": [
       "(662, 6)"
      ]
     },
     "execution_count": 5,
     "metadata": {},
     "output_type": "execute_result"
    }
   ],
   "source": [
    "startup_data.shape"
   ]
  },
  {
   "cell_type": "markdown",
   "metadata": {},
   "source": [
    "#### Check datatypes of each attributes"
   ]
  },
  {
   "cell_type": "code",
   "execution_count": 6,
   "metadata": {},
   "outputs": [
    {
     "name": "stdout",
     "output_type": "stream",
     "text": [
      "<class 'pandas.core.frame.DataFrame'>\n",
      "RangeIndex: 662 entries, 0 to 661\n",
      "Data columns (total 6 columns):\n",
      " #   Column          Non-Null Count  Dtype \n",
      "---  ------          --------------  ----- \n",
      " 0   Startup         662 non-null    object\n",
      " 1   Product         656 non-null    object\n",
      " 2   Funding         448 non-null    object\n",
      " 3   Event           662 non-null    object\n",
      " 4   Result          662 non-null    object\n",
      " 5   OperatingState  662 non-null    object\n",
      "dtypes: object(6)\n",
      "memory usage: 31.2+ KB\n"
     ]
    }
   ],
   "source": [
    "startup_data.info()"
   ]
  },
  {
   "cell_type": "markdown",
   "metadata": {},
   "source": [
    "#### Check for null values in attributes\n",
    "\n",
    "There are out of 662 row, 214 have null values in Funding column"
   ]
  },
  {
   "cell_type": "code",
   "execution_count": 7,
   "metadata": {},
   "outputs": [
    {
     "name": "stdout",
     "output_type": "stream",
     "text": [
      "214\n"
     ]
    }
   ],
   "source": [
    "print(startup_data.Funding.isnull().sum())"
   ]
  },
  {
   "cell_type": "markdown",
   "metadata": {},
   "source": [
    "## 3. Data Preprocessing & visualization"
   ]
  },
  {
   "cell_type": "markdown",
   "metadata": {},
   "source": [
    "#### 1. Drop the null values"
   ]
  },
  {
   "cell_type": "code",
   "execution_count": 8,
   "metadata": {},
   "outputs": [
    {
     "name": "stdout",
     "output_type": "stream",
     "text": [
      "<class 'pandas.core.frame.DataFrame'>\n",
      "RangeIndex: 446 entries, 0 to 445\n",
      "Data columns (total 7 columns):\n",
      " #   Column          Non-Null Count  Dtype \n",
      "---  ------          --------------  ----- \n",
      " 0   index           446 non-null    int64 \n",
      " 1   Startup         446 non-null    object\n",
      " 2   Product         446 non-null    object\n",
      " 3   Funding         446 non-null    object\n",
      " 4   Event           446 non-null    object\n",
      " 5   Result          446 non-null    object\n",
      " 6   OperatingState  446 non-null    object\n",
      "dtypes: int64(1), object(6)\n",
      "memory usage: 24.5+ KB\n"
     ]
    }
   ],
   "source": [
    "startup_data.dropna(inplace=True);\n",
    "startup_data.reset_index(inplace=True)\n",
    "startup_data.info()"
   ]
  },
  {
   "cell_type": "code",
   "execution_count": 9,
   "metadata": {},
   "outputs": [],
   "source": [
    "###\n",
    "   # This function converts strings like '$123k' to a numerical value of the money in million dollars.\n",
    "   # For example it converts\n",
    "     # $1.7B  to  1700.0\n",
    "     # $10.1M  to  10.1\n",
    "     # $485K  to  0.485\n",
    "###\n",
    "\n",
    "def convertToMillions(strValue):\n",
    "    new_col = strValue.replace('$','')\n",
    "    \n",
    "    curr_value = strValue.replace('$','')\n",
    "    if(strValue.endswith('K')):\n",
    "        curr_value = curr_value.replace('K','');\n",
    "        curr_value = float(curr_value)/1000;\n",
    "    elif strValue.endswith('B'):\n",
    "        curr_value = curr_value.replace('B','');\n",
    "        curr_value = float(curr_value) * 1000;\n",
    "    else:\n",
    "        curr_value = curr_value.replace('M','');\n",
    "        curr_value = float(curr_value) \n",
    "    return curr_value;\n"
   ]
  },
  {
   "cell_type": "code",
   "execution_count": 10,
   "metadata": {},
   "outputs": [
    {
     "data": {
      "text/plain": [
       "0        0.63\n",
       "1        1.00\n",
       "2       19.30\n",
       "3       29.00\n",
       "4        1.80\n",
       "        ...  \n",
       "441      8.00\n",
       "442      1.00\n",
       "443    223.00\n",
       "444      3.40\n",
       "445     31.50\n",
       "Name: Funds_Million, Length: 446, dtype: float64"
      ]
     },
     "execution_count": 10,
     "metadata": {},
     "output_type": "execute_result"
    }
   ],
   "source": [
    "startup_data['Funds_Million'] = startup_data.Funding.copy().convert_dtypes()\n",
    "startup_data.Funds_Million  = startup_data.Funds_Million.apply(convertToMillions);\n",
    "startup_data.Funds_Million"
   ]
  },
  {
   "cell_type": "code",
   "execution_count": 22,
   "metadata": {},
   "outputs": [
    {
     "data": {
      "image/png": "[encoded data removed]",
      "text/plain": [
       "<Figure size 432x288 with 1 Axes>"
      ]
     },
     "metadata": {},
     "output_type": "display_data"
    }
   ],
   "source": [
    "sns.set_style('whitegrid')\n",
    "ax = sns.boxplot(x=\"Funds_Million\",data=startup_data);\n",
    "ax.set_xlim(-12,30);"
   ]
  },
  {
   "cell_type": "markdown",
   "metadata": {},
   "source": [
    "#### Get lower fence from the box plot\n",
    "From the above box plot, it is approx 0"
   ]
  },
  {
   "cell_type": "markdown",
   "metadata": {},
   "source": [
    "#### Check the number of outliers greater than upperfence"
   ]
  },
  {
   "cell_type": "code",
   "execution_count": 12,
   "metadata": {},
   "outputs": [
    {
     "name": "stdout",
     "output_type": "stream",
     "text": [
      "22.569625  is upper fence\n",
      "no of outliers greater than upper fence is  60\n"
     ]
    }
   ],
   "source": [
    "q1 = startup_data.Funds_Million.quantile(0.25)\n",
    "q3 = startup_data.Funds_Million.quantile(0.75)\n",
    "IQR  = q3-q1;\n",
    "upper_fence = q3+ (1.5 *(IQR))\n",
    "print(upper_fence, \" is upper fence\")\n",
    "no_of_outliers = len(startup_data.Funds_Million.loc[startup_data.Funds_Million > upper_fence])\n",
    "print(\"no of outliers greater than upper fence is \",no_of_outliers)"
   ]
  },
  {
   "cell_type": "markdown",
   "metadata": {},
   "source": [
    "#### Drop the values greater than upper fence"
   ]
  },
  {
   "cell_type": "code",
   "execution_count": 13,
   "metadata": {},
   "outputs": [
    {
     "name": "stdout",
     "output_type": "stream",
     "text": [
      "(array([  3,  16,  21,  27,  33,  67,  71,  82,  84,  85,  87,  88, 102,\n",
      "       111, 117, 121, 122, 127, 129, 140, 144, 146, 153, 157, 183, 187,\n",
      "       189, 192, 205, 208, 212, 221, 230, 260, 263, 264, 267, 286, 291,\n",
      "       294, 311, 318, 365, 371, 375, 389, 395, 400, 403, 409, 418, 432,\n",
      "       433, 436, 437, 438, 439, 440, 443, 445]),)\n"
     ]
    },
    {
     "data": {
      "text/html": [
       "<div>\n",
       "<style scoped>\n",
       "    .dataframe tbody tr th:only-of-type {\n",
       "        vertical-align: middle;\n",
       "    }\n",
       "\n",
       "    .dataframe tbody tr th {\n",
       "        vertical-align: top;\n",
       "    }\n",
       "\n",
       "    .dataframe thead th {\n",
       "        text-align: right;\n",
       "    }\n",
       "</style>\n",
       "<table border=\"1\" class=\"dataframe\">\n",
       "  <thead>\n",
       "    <tr style=\"text-align: right;\">\n",
       "      <th></th>\n",
       "      <th>index</th>\n",
       "      <th>Startup</th>\n",
       "      <th>Product</th>\n",
       "      <th>Funding</th>\n",
       "      <th>Event</th>\n",
       "      <th>Result</th>\n",
       "      <th>OperatingState</th>\n",
       "      <th>Funds_Million</th>\n",
       "      <th>Greater</th>\n",
       "    </tr>\n",
       "  </thead>\n",
       "  <tbody>\n",
       "    <tr>\n",
       "      <th>0</th>\n",
       "      <td>1</td>\n",
       "      <td>3DLT</td>\n",
       "      <td>3dlt.com</td>\n",
       "      <td>$630K</td>\n",
       "      <td>Disrupt NYC 2013</td>\n",
       "      <td>Contestant</td>\n",
       "      <td>Closed</td>\n",
       "      <td>0.63</td>\n",
       "      <td>False</td>\n",
       "    </tr>\n",
       "    <tr>\n",
       "      <th>1</th>\n",
       "      <td>3</td>\n",
       "      <td>3Dprintler</td>\n",
       "      <td>3dprintler.com</td>\n",
       "      <td>$1M</td>\n",
       "      <td>Disrupt NY 2016</td>\n",
       "      <td>Audience choice</td>\n",
       "      <td>Operating</td>\n",
       "      <td>1.00</td>\n",
       "      <td>False</td>\n",
       "    </tr>\n",
       "    <tr>\n",
       "      <th>2</th>\n",
       "      <td>5</td>\n",
       "      <td>5to1</td>\n",
       "      <td>5to1.com</td>\n",
       "      <td>$19.3M</td>\n",
       "      <td>TC50 2009</td>\n",
       "      <td>Contestant</td>\n",
       "      <td>Acquired</td>\n",
       "      <td>19.30</td>\n",
       "      <td>False</td>\n",
       "    </tr>\n",
       "    <tr>\n",
       "      <th>4</th>\n",
       "      <td>10</td>\n",
       "      <td>AdhereTech</td>\n",
       "      <td>adheretech.com</td>\n",
       "      <td>$1.8M</td>\n",
       "      <td>Hardware Battlefield 2014</td>\n",
       "      <td>Contestant</td>\n",
       "      <td>Operating</td>\n",
       "      <td>1.80</td>\n",
       "      <td>False</td>\n",
       "    </tr>\n",
       "    <tr>\n",
       "      <th>5</th>\n",
       "      <td>11</td>\n",
       "      <td>AdRocket</td>\n",
       "      <td>adrocket.com</td>\n",
       "      <td>$1M</td>\n",
       "      <td>TC50 2008</td>\n",
       "      <td>Contestant</td>\n",
       "      <td>Closed</td>\n",
       "      <td>1.00</td>\n",
       "      <td>False</td>\n",
       "    </tr>\n",
       "    <tr>\n",
       "      <th>...</th>\n",
       "      <td>...</td>\n",
       "      <td>...</td>\n",
       "      <td>...</td>\n",
       "      <td>...</td>\n",
       "      <td>...</td>\n",
       "      <td>...</td>\n",
       "      <td>...</td>\n",
       "      <td>...</td>\n",
       "      <td>...</td>\n",
       "    </tr>\n",
       "    <tr>\n",
       "      <th>434</th>\n",
       "      <td>645</td>\n",
       "      <td>Yap</td>\n",
       "      <td>yapme.com</td>\n",
       "      <td>$10M</td>\n",
       "      <td>TC40 2007</td>\n",
       "      <td>Contestant</td>\n",
       "      <td>Closed</td>\n",
       "      <td>10.00</td>\n",
       "      <td>False</td>\n",
       "    </tr>\n",
       "    <tr>\n",
       "      <th>435</th>\n",
       "      <td>646</td>\n",
       "      <td>YayPay Inc</td>\n",
       "      <td>yaypay.com</td>\n",
       "      <td>$900K</td>\n",
       "      <td>Disrupt London 2015</td>\n",
       "      <td>Contestant</td>\n",
       "      <td>Operating</td>\n",
       "      <td>0.90</td>\n",
       "      <td>False</td>\n",
       "    </tr>\n",
       "    <tr>\n",
       "      <th>441</th>\n",
       "      <td>657</td>\n",
       "      <td>Zivity</td>\n",
       "      <td>zivity.com</td>\n",
       "      <td>$8M</td>\n",
       "      <td>TC40 2007</td>\n",
       "      <td>Contestant</td>\n",
       "      <td>Operating</td>\n",
       "      <td>8.00</td>\n",
       "      <td>False</td>\n",
       "    </tr>\n",
       "    <tr>\n",
       "      <th>442</th>\n",
       "      <td>658</td>\n",
       "      <td>Zmorph</td>\n",
       "      <td>zmorph3d.com</td>\n",
       "      <td>$1M</td>\n",
       "      <td>-</td>\n",
       "      <td>Audience choice</td>\n",
       "      <td>Operating</td>\n",
       "      <td>1.00</td>\n",
       "      <td>False</td>\n",
       "    </tr>\n",
       "    <tr>\n",
       "      <th>444</th>\n",
       "      <td>660</td>\n",
       "      <td>Zula</td>\n",
       "      <td>zulaapp.com</td>\n",
       "      <td>$3.4M</td>\n",
       "      <td>Disrupt SF 2013</td>\n",
       "      <td>Audience choice</td>\n",
       "      <td>Operating</td>\n",
       "      <td>3.40</td>\n",
       "      <td>False</td>\n",
       "    </tr>\n",
       "  </tbody>\n",
       "</table>\n",
       "<p>386 rows × 9 columns</p>\n",
       "</div>"
      ],
      "text/plain": [
       "     index     Startup         Product Funding                      Event  \\\n",
       "0        1        3DLT        3dlt.com   $630K           Disrupt NYC 2013   \n",
       "1        3  3Dprintler  3dprintler.com     $1M            Disrupt NY 2016   \n",
       "2        5        5to1        5to1.com  $19.3M                  TC50 2009   \n",
       "4       10  AdhereTech  adheretech.com   $1.8M  Hardware Battlefield 2014   \n",
       "5       11    AdRocket    adrocket.com     $1M                  TC50 2008   \n",
       "..     ...         ...             ...     ...                        ...   \n",
       "434    645         Yap       yapme.com    $10M                  TC40 2007   \n",
       "435    646  YayPay Inc      yaypay.com   $900K        Disrupt London 2015   \n",
       "441    657      Zivity      zivity.com     $8M                  TC40 2007   \n",
       "442    658      Zmorph    zmorph3d.com     $1M                          -   \n",
       "444    660        Zula     zulaapp.com   $3.4M            Disrupt SF 2013   \n",
       "\n",
       "              Result OperatingState  Funds_Million  Greater  \n",
       "0         Contestant         Closed           0.63    False  \n",
       "1    Audience choice      Operating           1.00    False  \n",
       "2         Contestant       Acquired          19.30    False  \n",
       "4         Contestant      Operating           1.80    False  \n",
       "5         Contestant         Closed           1.00    False  \n",
       "..               ...            ...            ...      ...  \n",
       "434       Contestant         Closed          10.00    False  \n",
       "435       Contestant      Operating           0.90    False  \n",
       "441       Contestant      Operating           8.00    False  \n",
       "442  Audience choice      Operating           1.00    False  \n",
       "444  Audience choice      Operating           3.40    False  \n",
       "\n",
       "[386 rows x 9 columns]"
      ]
     },
     "execution_count": 13,
     "metadata": {},
     "output_type": "execute_result"
    }
   ],
   "source": [
    "indices = np.where(startup_data.Funds_Million > upper_fence)\n",
    "print(indices)\n",
    "startup_data['Greater'] = startup_data.Funds_Million>upper_fence\n",
    "# print(startup_data.Funds_Million.iloc[indices[1]])\n",
    "\n",
    "startup_data=startup_data.drop(indices[0])\n",
    "startup_data"
   ]
  },
  {
   "cell_type": "markdown",
   "metadata": {},
   "source": [
    "#### Plot the box plot after dropping value"
   ]
  },
  {
   "cell_type": "code",
   "execution_count": 14,
   "metadata": {},
   "outputs": [
    {
     "data": {
      "image/png": "[encoded data removed]",
      "text/plain": [
       "<Figure size 432x288 with 1 Axes>"
      ]
     },
     "metadata": {},
     "output_type": "display_data"
    }
   ],
   "source": [
    "sns.boxplot(x='Funds_Million',data=startup_data);"
   ]
  },
  {
   "cell_type": "markdown",
   "metadata": {},
   "source": [
    "#### Check frequency of the OperatingState feature classes"
   ]
  },
  {
   "cell_type": "code",
   "execution_count": 15,
   "metadata": {},
   "outputs": [
    {
     "data": {
      "image/png": "[encoded data removed]",
      "text/plain": [
       "<Figure size 432x288 with 1 Axes>"
      ]
     },
     "metadata": {},
     "output_type": "display_data"
    }
   ],
   "source": [
    "sns.countplot(x='OperatingState',data=final_startup_data);"
   ]
  },
  {
   "cell_type": "markdown",
   "metadata": {},
   "source": [
    "#### Plot distribution plot for Funds in million"
   ]
  },
  {
   "cell_type": "code",
   "execution_count": 18,
   "metadata": {
    "scrolled": true
   },
   "outputs": [
    {
     "data": {
      "image/png": "[encoded data removed]",
      "text/plain": [
       "<Figure size 720x360 with 1 Axes>"
      ]
     },
     "metadata": {},
     "output_type": "display_data"
    }
   ],
   "source": [
    "plt.figure(figsize=(10,5))\n",
    "sns.histplot(startup_data.Funds_Million,kde=True);"
   ]
  },
  {
   "cell_type": "markdown",
   "metadata": {},
   "source": [
    "#### Plot distribution plots for companies that are still operating and companies that are closed"
   ]
  },
  {
   "cell_type": "code",
   "execution_count": 21,
   "metadata": {},
   "outputs": [
    {
     "data": {
      "text/plain": [
       "<AxesSubplot:xlabel='Funds_Million', ylabel='Count'>"
      ]
     },
     "execution_count": 21,
     "metadata": {},
     "output_type": "execute_result"
    },
    {
     "data": {
      "image/png": "[encoded data removed]",
      "text/plain": [
       "<Figure size 432x288 with 1 Axes>"
      ]
     },
     "metadata": {},
     "output_type": "display_data"
    }
   ],
   "source": [
    "sns.histplot(x=\"Funds_Million\",hue=\"OperatingState\",data=startup_data)"
   ]
  },
  {
   "cell_type": "markdown",
   "metadata": {},
   "source": [
    "## 4. Statistical Analysis\n",
    "\n",
    "https://statistics.laerd.com/statistical-guides/independent-t-test-statistical-guide.php -- to be removed"
   ]
  },
  {
   "cell_type": "markdown",
   "metadata": {},
   "source": [
    "<b>Null Hypothesis</b>: Average Funds raised by companies that are closed is same as the companies that are still operating\n",
    "\n",
    "<b>Alternate Hypothesis</b> : Average Funds raised by companies that are closed is less than that of companies operating"
   ]
  },
  {
   "cell_type": "code",
   "execution_count": 25,
   "metadata": {},
   "outputs": [
    {
     "data": {
      "text/plain": [
       "count    275.000000\n",
       "mean       3.517953\n",
       "std        4.430511\n",
       "min        0.005000\n",
       "25%        0.578050\n",
       "50%        1.700000\n",
       "75%        4.500000\n",
       "max       22.000000\n",
       "Name: Funds_Million, dtype: float64"
      ]
     },
     "execution_count": 25,
     "metadata": {},
     "output_type": "execute_result"
    }
   ],
   "source": [
    "funds_operating = startup_data.loc[startup_data.OperatingState=='Operating'].Funds_Million\n",
    "funds_operating.describe()"
   ]
  },
  {
   "cell_type": "code",
   "execution_count": 26,
   "metadata": {},
   "outputs": [
    {
     "data": {
      "text/plain": [
       "count    56.000000\n",
       "mean      2.682423\n",
       "std       4.060193\n",
       "min       0.093000\n",
       "25%       0.443750\n",
       "50%       0.927100\n",
       "75%       3.125000\n",
       "max      20.800000\n",
       "Name: Funds_Million, dtype: float64"
      ]
     },
     "execution_count": 26,
     "metadata": {},
     "output_type": "execute_result"
    }
   ],
   "source": [
    "funds_closed = startup_data.loc[startup_data.OperatingState=='Closed'].Funds_Million\n",
    "funds_closed.describe()"
   ]
  },
  {
   "cell_type": "markdown",
   "metadata": {},
   "source": [
    "These are 2 different startup groups and are independent.\n",
    "Hence Let us use <b>Two sample t test</b> to test our hypothesis\n"
   ]
  },
  {
   "cell_type": "code",
   "execution_count": 30,
   "metadata": {},
   "outputs": [
    {
     "name": "stdout",
     "output_type": "stream",
     "text": [
      "1.3039132895334589 0.1931747168826862\n"
     ]
    }
   ],
   "source": [
    "from scipy.stats import ttest_ind\n",
    "t_statistic,p_value = ttest_ind(funds_operating,funds_closed)\n",
    "print(t_statistic,p_value)"
   ]
  },
  {
   "cell_type": "markdown",
   "metadata": {},
   "source": [
    "Let's take 5% significance level, we see that\n",
    "p_value is > 0.05 and hence <b>we failed to reject </b> our null hypothesis"
   ]
  },
  {
   "cell_type": "markdown",
   "metadata": {},
   "source": [
    "#### Make a copy of original data frame"
   ]
  },
  {
   "cell_type": "code",
   "execution_count": 36,
   "metadata": {},
   "outputs": [],
   "source": [
    "startup_data_frame = pd.read_csv('DS - Part3 - CompanyX_EU.csv');"
   ]
  },
  {
   "cell_type": "markdown",
   "metadata": {},
   "source": [
    "#### Check frequency Distribution of Result variable"
   ]
  },
  {
   "cell_type": "code",
   "execution_count": 40,
   "metadata": {},
   "outputs": [
    {
     "data": {
      "text/plain": [
       "<AxesSubplot:xlabel='Result', ylabel='count'>"
      ]
     },
     "execution_count": 40,
     "metadata": {},
     "output_type": "execute_result"
    },
    {
     "data": {
      "image/png": "[encoded data removed]",
      "text/plain": [
       "<Figure size 432x288 with 1 Axes>"
      ]
     },
     "metadata": {},
     "output_type": "display_data"
    }
   ],
   "source": [
    "sns.countplot(x='Result',data=startup_data_frame,hue=\"OperatingState\")"
   ]
  },
  {
   "cell_type": "code",
   "execution_count": 60,
   "metadata": {},
   "outputs": [
    {
     "data": {
      "text/html": [
       "<div>\n",
       "<style scoped>\n",
       "    .dataframe tbody tr th:only-of-type {\n",
       "        vertical-align: middle;\n",
       "    }\n",
       "\n",
       "    .dataframe tbody tr th {\n",
       "        vertical-align: top;\n",
       "    }\n",
       "\n",
       "    .dataframe thead th {\n",
       "        text-align: right;\n",
       "    }\n",
       "</style>\n",
       "<table border=\"1\" class=\"dataframe\">\n",
       "  <thead>\n",
       "    <tr style=\"text-align: right;\">\n",
       "      <th></th>\n",
       "      <th></th>\n",
       "      <th>Startup</th>\n",
       "      <th>Product</th>\n",
       "      <th>Funding</th>\n",
       "      <th>Event</th>\n",
       "    </tr>\n",
       "    <tr>\n",
       "      <th>Result</th>\n",
       "      <th>OperatingState</th>\n",
       "      <th></th>\n",
       "      <th></th>\n",
       "      <th></th>\n",
       "      <th></th>\n",
       "    </tr>\n",
       "  </thead>\n",
       "  <tbody>\n",
       "    <tr>\n",
       "      <th>Winner</th>\n",
       "      <th>Operating</th>\n",
       "      <td>19</td>\n",
       "      <td>19</td>\n",
       "      <td>18</td>\n",
       "      <td>19</td>\n",
       "    </tr>\n",
       "    <tr>\n",
       "      <th>Contestant</th>\n",
       "      <th>Operating</th>\n",
       "      <td>332</td>\n",
       "      <td>327</td>\n",
       "      <td>215</td>\n",
       "      <td>332</td>\n",
       "    </tr>\n",
       "  </tbody>\n",
       "</table>\n",
       "</div>"
      ],
      "text/plain": [
       "                           Startup  Product  Funding  Event\n",
       "Result     OperatingState                                  \n",
       "Winner     Operating            19       19       18     19\n",
       "Contestant Operating           332      327      215    332"
      ]
     },
     "execution_count": 60,
     "metadata": {},
     "output_type": "execute_result"
    }
   ],
   "source": [
    "startup_data_frame=startup_data_frame.convert_dtypes()\n",
    "operating_df = startup_data_frame.loc[(startup_data_frame.OperatingState == 'Operating')]\n",
    "operating_df.groupby(['Result','OperatingState']).count().loc[['Winner','Contestant']]"
   ]
  },
  {
   "cell_type": "code",
   "execution_count": 57,
   "metadata": {},
   "outputs": [
    {
     "name": "stdout",
     "output_type": "stream",
     "text": [
      "(465, 6)\n"
     ]
    }
   ],
   "source": [
    "print(operating_df.shape)"
   ]
  },
  {
   "cell_type": "markdown",
   "metadata": {},
   "source": [
    "Percentage of winners that are still operating is \n",
    "```\n",
    "(332/465) *100 ~= 71.4%\n",
    "```\n",
    "Percentage of contestants that are still operating is \n",
    "```\n",
    "(19/465) * 100 ~= 4%\n",
    "```\n"
   ]
  },
  {
   "cell_type": "markdown",
   "metadata": {},
   "source": [
    "#### Write hypothesis comparing the proportion of companies that are operating between winners and contestants"
   ]
  },
  {
   "cell_type": "markdown",
   "metadata": {},
   "source": [
    "<b>Alternate Hypothesis</b>: <ins>Proportion</ins> of companies that operate with winners is more than contestants\n",
    "\n",
    "<b>Null Hypothesis</b>: <ins>Proportion</ins> of companies that operate with winner and contestants is the same.\n",
    "\n",
    "\n",
    "Let's use test of proportions:"
   ]
  },
  {
   "cell_type": "code",
   "execution_count": 66,
   "metadata": {},
   "outputs": [
    {
     "name": "stdout",
     "output_type": "stream",
     "text": [
      "19 332 465\n"
     ]
    }
   ],
   "source": [
    "no_of_winners = operating_df.loc[operating_df.Result=='Winner'].shape[0]\n",
    "no_of_contestants  = operating_df.loc[operating_df.Result=='Contestant'].shape[0]\n",
    "no_of_operating_companies = operating_df.shape[0]\n",
    "print(no_of_winners, no_of_contestants,no_of_operating_companies)"
   ]
  },
  {
   "cell_type": "code",
   "execution_count": 69,
   "metadata": {},
   "outputs": [
    {
     "name": "stdout",
     "output_type": "stream",
     "text": [
      "1.6757881290464125e-99\n",
      "with pval  1.6757881290464125e-99 we reject the null hypothesis\n"
     ]
    }
   ],
   "source": [
    "from statsmodels.stats.proportion import proportions_ztest\n",
    "stat, pval = proportions_ztest([no_of_winners,no_of_contestants],[no_of_operating_companies,no_of_operating_companies])\n",
    "print(pval)\n",
    "if(pval <0.05):\n",
    "    print('with pval ',pval, 'we reject the null hypothesis at 5% significance level')\n",
    "else:\n",
    "    print('with pval',pval, 'we failed to reject the null hypothesis  5% significance level')\n",
    "    "
   ]
  },
  {
   "cell_type": "markdown",
   "metadata": {},
   "source": [
    "#### Check the distribution of Event variable\n"
   ]
  },
  {
   "cell_type": "code",
   "execution_count": 74,
   "metadata": {},
   "outputs": [
    {
     "data": {
      "image/png": "[encoded data removed]",
      "text/plain": [
       "<Figure size 1440x360 with 1 Axes>"
      ]
     },
     "metadata": {},
     "output_type": "display_data"
    }
   ],
   "source": [
    "plt.figure(figsize=(20,5));\n",
    "sns.countplot(x='Event',data=startup_data_frame);\n",
    "plt.xticks(rotation=30);"
   ]
  },
  {
   "cell_type": "markdown",
   "metadata": {},
   "source": [
    "#### Select only the Event that has disrupt keyword from 2103 onwards"
   ]
  },
  {
   "cell_type": "code",
   "execution_count": 97,
   "metadata": {},
   "outputs": [],
   "source": [
    "## This function checks if a given string has Disrupt keyword and has year >=2103\n",
    "\n",
    "def disruptRow(string):\n",
    "    str = string.split(' ');\n",
    "    if(str[0].startswith('Disrupt') and pd.to_numeric(str[2])>= 2013):\n",
    "        return True;\n",
    "    return False;\n",
    "\n",
    "def getCity(string):\n",
    "#     print('string is ',string)\n",
    "    str = string.split(' ');\n",
    "    return str[1];\n",
    "\n",
    "a = startup_data_frame.Event.apply(disruptRow)"
   ]
  },
  {
   "cell_type": "code",
   "execution_count": 102,
   "metadata": {},
   "outputs": [
    {
     "data": {
      "text/plain": [
       "3         Disrupt NY 2016\n",
       "13        Disrupt SF 2015\n",
       "14    Disrupt London 2016\n",
       "16        Disrupt SF 2015\n",
       "18       Disrupt NYC 2014\n",
       "Name: Event_disrupt, dtype: string"
      ]
     },
     "execution_count": 102,
     "metadata": {},
     "output_type": "execute_result"
    }
   ],
   "source": [
    "startup_data_frame['Event_disrupt'] = startup_data_frame.Event.loc[a]\n",
    "startup_data_frame.Event_disrupt.head()"
   ]
  },
  {
   "cell_type": "code",
   "execution_count": 103,
   "metadata": {},
   "outputs": [
    {
     "name": "stdout",
     "output_type": "stream",
     "text": [
      "<class 'pandas.core.frame.DataFrame'>\n",
      "Int64Index: 140 entries, 3 to 646\n",
      "Data columns (total 8 columns):\n",
      " #   Column          Non-Null Count  Dtype \n",
      "---  ------          --------------  ----- \n",
      " 0   Startup         140 non-null    string\n",
      " 1   Product         140 non-null    string\n",
      " 2   Funding         140 non-null    string\n",
      " 3   Event           140 non-null    string\n",
      " 4   Result          140 non-null    string\n",
      " 5   OperatingState  140 non-null    string\n",
      " 6   Event_disrupt   140 non-null    string\n",
      " 7   City            140 non-null    object\n",
      "dtypes: object(1), string(7)\n",
      "memory usage: 9.8+ KB\n"
     ]
    }
   ],
   "source": [
    "startup_data_frame.info()"
   ]
  },
  {
   "cell_type": "code",
   "execution_count": 104,
   "metadata": {},
   "outputs": [
    {
     "name": "stdout",
     "output_type": "stream",
     "text": [
      "<class 'pandas.core.frame.DataFrame'>\n",
      "Int64Index: 140 entries, 3 to 646\n",
      "Data columns (total 8 columns):\n",
      " #   Column          Non-Null Count  Dtype \n",
      "---  ------          --------------  ----- \n",
      " 0   Startup         140 non-null    string\n",
      " 1   Product         140 non-null    string\n",
      " 2   Funding         140 non-null    string\n",
      " 3   Event           140 non-null    string\n",
      " 4   Result          140 non-null    string\n",
      " 5   OperatingState  140 non-null    string\n",
      " 6   Event_disrupt   140 non-null    string\n",
      " 7   City            140 non-null    object\n",
      "dtypes: object(1), string(7)\n",
      "memory usage: 9.8+ KB\n"
     ]
    }
   ],
   "source": [
    "startup_data_frame.Event_disrupt.isna().sum()\n",
    "startup_data_frame.dropna(inplace=True)\n",
    "startup_data_frame.info()"
   ]
  },
  {
   "cell_type": "code",
   "execution_count": 108,
   "metadata": {},
   "outputs": [],
   "source": [
    "startup_data_frame['City'] = startup_data_frame.Event_disrupt.apply(getCity);\n",
    "startup_data_frame = startup_data_frame.convert_dtypes()"
   ]
  },
  {
   "cell_type": "markdown",
   "metadata": {},
   "source": [
    "#### Plot the distribution plot comparing the 3 city events"
   ]
  },
  {
   "cell_type": "code",
   "execution_count": 130,
   "metadata": {},
   "outputs": [],
   "source": [
    "cities = ['NY','SF','EU']\n",
    "# startup_data_frame in cities\n",
    "cities_ny_df = startup_data_frame.loc[startup_data_frame.City =='NY']\n",
    "cities_sf_df = startup_data_frame.loc[startup_data_frame.City =='SF']\n",
    "cities_eu_df = startup_data_frame.loc[startup_data_frame.City =='EU']"
   ]
  },
  {
   "cell_type": "code",
   "execution_count": 129,
   "metadata": {},
   "outputs": [
    {
     "data": {
      "image/png": "[encoded data removed]",
      "text/plain": [
       "<Figure size 1440x360 with 1 Axes>"
      ]
     },
     "metadata": {},
     "output_type": "display_data"
    }
   ],
   "source": [
    "plt.figure(figsize=(20,5))\n",
    "sns.histplot(x=\"Funding\",data=cities_ny_df,kde=True);\n",
    "plt.xticks(rotation =45);"
   ]
  },
  {
   "cell_type": "code",
   "execution_count": 131,
   "metadata": {},
   "outputs": [
    {
     "data": {
      "image/png": "[encoded data removed]",
      "text/plain": [
       "<Figure size 1440x360 with 1 Axes>"
      ]
     },
     "metadata": {},
     "output_type": "display_data"
    }
   ],
   "source": [
    "plt.figure(figsize=(20,5))\n",
    "sns.histplot(x=\"Funding\",data=cities_sf_df,kde=True);\n",
    "plt.xticks(rotation =45);"
   ]
  },
  {
   "cell_type": "code",
   "execution_count": 132,
   "metadata": {},
   "outputs": [
    {
     "data": {
      "image/png": "[encoded data removed]",
      "text/plain": [
       "<Figure size 1440x360 with 1 Axes>"
      ]
     },
     "metadata": {},
     "output_type": "display_data"
    }
   ],
   "source": [
    "plt.figure(figsize=(20,5))\n",
    "sns.histplot(x=\"Funding\",data=cities_eu_df,kde=True);\n",
    "plt.xticks(rotation =45);"
   ]
  },
  {
   "cell_type": "markdown",
   "metadata": {},
   "source": [
    "#### Lets compare the average Funding raised in the events organized in each of these cities\n",
    ".1. Bring all the funding entries to one unit : Millions"
   ]
  },
  {
   "cell_type": "code",
   "execution_count": 136,
   "metadata": {},
   "outputs": [
    {
     "name": "stderr",
     "output_type": "stream",
     "text": [
      "/home/chamanoor/anaconda3/lib/python3.8/site-packages/pandas/core/generic.py:5168: SettingWithCopyWarning: \n",
      "A value is trying to be set on a copy of a slice from a DataFrame.\n",
      "Try using .loc[row_indexer,col_indexer] = value instead\n",
      "\n",
      "See the caveats in the documentation: https://pandas.pydata.org/pandas-docs/stable/user_guide/indexing.html#returning-a-view-versus-a-copy\n",
      "  self[name] = value\n"
     ]
    }
   ],
   "source": [
    "cities_ny_df.Funds_Million=cities_ny_df.Funding.apply(convertToMillions)\n",
    "cities_eu_df.Funds_Million=cities_eu_df.Funding.apply(convertToMillions)\n",
    "cities_sf_df.Funds_Million=cities_sf_df.Funding.apply(convertToMillions)"
   ]
  },
  {
   "cell_type": "code",
   "execution_count": 143,
   "metadata": {},
   "outputs": [
    {
     "name": "stdout",
     "output_type": "stream",
     "text": [
      "3.007937041535417\n",
      "3.721639476971884\n",
      "3.6649281825826012\n"
     ]
    }
   ],
   "source": [
    "print(cities_ny_df.Funds_Million.std())\n",
    "print(cities_eu_df.Funds_Million.std())\n",
    "print(cities_sf_df.Funds_Million.std())"
   ]
  },
  {
   "cell_type": "markdown",
   "metadata": {},
   "source": [
    "<b>Alternate</b> Hypothesis : Average Funds raised during the events across cities is different\n",
    "\n",
    "<b>Null Hypothesis</b> : Average Funds raised during the events across these cities is same    \n",
    "\n",
    "Let's use <b>One Way Anova</b>"
   ]
  },
  {
   "cell_type": "code",
   "execution_count": 147,
   "metadata": {},
   "outputs": [],
   "source": [
    "mean_funds_raised = pd.DataFrame()\n",
    "\n",
    "df1 = pd.DataFrame({'City':'NY','Funds':cities_ny_df.Funds_Million})\n",
    "df2 = pd.DataFrame({'City':'EU','Funds':cities_eu_df.Funds_Million})\n",
    "df3 = pd.DataFrame({'City':'SF','Funds':cities_sf_df.Funds_Million})\n",
    "\n",
    "mean_funds_raised= mean_funds_raised.append(df1).append(df2).append(df3)"
   ]
  },
  {
   "cell_type": "code",
   "execution_count": 148,
   "metadata": {},
   "outputs": [
    {
     "name": "stdout",
     "output_type": "stream",
     "text": [
      "               sum_sq    df         F  PR(>F)\n",
      "City         4.722907   2.0  0.198849    0.82\n",
      "Residual  1175.683796  99.0       NaN     NaN\n"
     ]
    }
   ],
   "source": [
    "import statsmodels.api as sm\n",
    "from statsmodels.formula.api import ols\n",
    "\n",
    "mod = ols('Funds ~ City',data=mean_funds_raised).fit()\n",
    "aov_table = sm.stats.anova_lm(mod,typ=2)\n",
    "print(aov_table)"
   ]
  },
  {
   "cell_type": "markdown",
   "metadata": {},
   "source": [
    "the pvalue is 0.82 and it is greater than 0.05 (5% significance)\n",
    "\n",
    "Therefore, we <b>failed to reject</b> null hypothesis\n"
   ]
  }
 ],
 "metadata": {
  "kernelspec": {
   "display_name": "Python 3",
   "language": "python",
   "name": "python3"
  },
  "language_info": {
   "codemirror_mode": {
    "name": "ipython",
    "version": 3
   },
   "file_extension": ".py",
   "mimetype": "text/x-python",
   "name": "python",
   "nbconvert_exporter": "python",
   "pygments_lexer": "ipython3",
   "version": "3.8.5"
  }
 },
 "nbformat": 4,
 "nbformat_minor": 4
}
