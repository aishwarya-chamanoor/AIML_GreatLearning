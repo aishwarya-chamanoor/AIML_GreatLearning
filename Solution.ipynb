{
 "cells": [
  {
   "cell_type": "markdown",
   "metadata": {},
   "source": [
    "# PART I : QUESTION BASED"
   ]
  },
  {
   "cell_type": "code",
   "execution_count": 12,
   "metadata": {},
   "outputs": [],
   "source": [
    "import pandas as pd;\n",
    "import numpy as np;\n",
    "import scipy.stats as stats\n",
    "import matplotlib.pyplot as plt;\n",
    "import seaborn as sns"
   ]
  },
  {
   "cell_type": "markdown",
   "metadata": {},
   "source": [
    "## Question 1"
   ]
  },
  {
   "cell_type": "code",
   "execution_count": 21,
   "metadata": {},
   "outputs": [
    {
     "data": {
      "text/html": [
       "<div>\n",
       "<style scoped>\n",
       "    .dataframe tbody tr th:only-of-type {\n",
       "        vertical-align: middle;\n",
       "    }\n",
       "\n",
       "    .dataframe tbody tr th {\n",
       "        vertical-align: top;\n",
       "    }\n",
       "\n",
       "    .dataframe thead th {\n",
       "        text-align: right;\n",
       "    }\n",
       "</style>\n",
       "<table border=\"1\" class=\"dataframe\">\n",
       "  <thead>\n",
       "    <tr style=\"text-align: right;\">\n",
       "      <th></th>\n",
       "      <th>Actually placed and order for Product A - Yes</th>\n",
       "      <th>Actually placed and order for Product A - No</th>\n",
       "      <th>Total</th>\n",
       "    </tr>\n",
       "    <tr>\n",
       "      <th>Planned to purchase Product A</th>\n",
       "      <th></th>\n",
       "      <th></th>\n",
       "      <th></th>\n",
       "    </tr>\n",
       "  </thead>\n",
       "  <tbody>\n",
       "    <tr>\n",
       "      <th>Yes</th>\n",
       "      <td>400</td>\n",
       "      <td>100</td>\n",
       "      <td>500</td>\n",
       "    </tr>\n",
       "    <tr>\n",
       "      <th>No</th>\n",
       "      <td>200</td>\n",
       "      <td>1300</td>\n",
       "      <td>1500</td>\n",
       "    </tr>\n",
       "    <tr>\n",
       "      <th>Total</th>\n",
       "      <td>600</td>\n",
       "      <td>1400</td>\n",
       "      <td>2000</td>\n",
       "    </tr>\n",
       "  </tbody>\n",
       "</table>\n",
       "</div>"
      ],
      "text/plain": [
       "                               Actually placed and order for Product A - Yes  \\\n",
       "Planned to purchase Product A                                                  \n",
       "Yes                                                                      400   \n",
       "No                                                                       200   \n",
       "Total                                                                    600   \n",
       "\n",
       "                               Actually placed and order for Product A - No  \\\n",
       "Planned to purchase Product A                                                 \n",
       "Yes                                                                     100   \n",
       "No                                                                     1300   \n",
       "Total                                                                  1400   \n",
       "\n",
       "                               Total  \n",
       "Planned to purchase Product A         \n",
       "Yes                              500  \n",
       "No                              1500  \n",
       "Total                           2000  "
      ]
     },
     "execution_count": 21,
     "metadata": {},
     "output_type": "execute_result"
    }
   ],
   "source": [
    "table  = pd.DataFrame([[400,100,500],[200,1300,1500],[600,1400,2000]],columns=[\"Actually placed and order for Product A - Yes\",\"Actually placed and order for Product A - No\",\"Total\"],index=[\"Yes\",\"No\",\"Total\"])\n",
    "table.index.name = \"Planned to purchase Product A\"\n",
    "\n",
    "table"
   ]
  },
  {
   "cell_type": "markdown",
   "metadata": {},
   "source": [
    "### Question 1.1 : Find Joint Probability of the people who planned to purchase and placed an order.\n",
    "#### Solution : \n",
    "Joint Probability  is\n",
    " ```\n",
    "     P( Planned and Placed)  =  400\n",
    " ```\n",
    " from table "
   ]
  },
  {
   "cell_type": "markdown",
   "metadata": {},
   "source": [
    "### Question 1.2 : Find Joint probability of the people who planned to purchase and actually placed an order, given that people planned to purchase?"
   ]
  },
  {
   "cell_type": "markdown",
   "metadata": {},
   "source": [
    "#### Solution: \n"
   ]
  },
  {
   "cell_type": "markdown",
   "metadata": {},
   "source": [
    "## Question 2"
   ]
  },
  {
   "cell_type": "markdown",
   "metadata": {},
   "source": [
    "#### Given Info: Sample of 10 items, Probability of failure : 5% = 0.05"
   ]
  },
  {
   "cell_type": "markdown",
   "metadata": {},
   "source": [
    "### A: Probability that none of the items are defective"
   ]
  },
  {
   "cell_type": "markdown",
   "metadata": {},
   "source": [
    "#### Solution:\n",
    "> The distribution is <b>binomial</b> here, with n =10, p = 0.05\n",
    "> Probability of none of items being defective is\n",
    "\n",
    "(1-p)<sup>n</sup> = (1- 0.05) <sup>10</sup>"
   ]
  },
  {
   "cell_type": "code",
   "execution_count": 22,
   "metadata": {},
   "outputs": [
    {
     "data": {
      "text/plain": [
       "0.5987369392383787"
      ]
     },
     "execution_count": 22,
     "metadata": {},
     "output_type": "execute_result"
    }
   ],
   "source": [
    "pow(1-0.05,10)"
   ]
  },
  {
   "cell_type": "markdown",
   "metadata": {},
   "source": [
    "Answer is 0.598 ~= 0.6 \n",
    "\n",
    "Verifying the same using scipy stats library"
   ]
  },
  {
   "cell_type": "code",
   "execution_count": 34,
   "metadata": {},
   "outputs": [
    {
     "name": "stdout",
     "output_type": "stream",
     "text": [
      "[5.98736939e-01 3.15124705e-01 7.46347985e-02 1.04750594e-02\n",
      " 9.64808106e-04 6.09352488e-05 2.67259863e-06 8.03789063e-08\n",
      " 1.58642578e-09 1.85546875e-11 9.76562500e-14]\n"
     ]
    }
   ],
   "source": [
    "n=10\n",
    "p=0.05\n",
    "k=np.arange(0,n+1)\n",
    "binomial = stats.binom.pmf(k,n,p)\n",
    "print(binomial)"
   ]
  },
  {
   "cell_type": "code",
   "execution_count": 35,
   "metadata": {},
   "outputs": [
    {
     "name": "stdout",
     "output_type": "stream",
     "text": [
      "0.5987369392383789  is probability that none are defective\n"
     ]
    }
   ],
   "source": [
    "print(binomial[0],\" is probability that none are defective\")"
   ]
  },
  {
   "cell_type": "markdown",
   "metadata": {},
   "source": [
    "### B : Probability that exactly one of the items is defective"
   ]
  },
  {
   "cell_type": "markdown",
   "metadata": {},
   "source": [
    "#### Solution: \n",
    "From the above computation, this value is binomial[1], which is mathematically computed as \n",
    "n<sub>c<sub>1</sub></sub> (p<sup>1</sup>)((1-p)<sup>(n-1)</sup>) :"
   ]
  },
  {
   "cell_type": "code",
   "execution_count": 36,
   "metadata": {},
   "outputs": [
    {
     "name": "stdout",
     "output_type": "stream",
     "text": [
      "0.31512470486230504\n"
     ]
    }
   ],
   "source": [
    "print(binomial[1])"
   ]
  },
  {
   "cell_type": "markdown",
   "metadata": {},
   "source": [
    "### C: Probability that two or fewer of the items are defective\n"
   ]
  },
  {
   "cell_type": "markdown",
   "metadata": {},
   "source": [
    "#### Solution\n",
    "Probability that two or fewer\n",
    "\n",
    "= Prob (None) + Prob(1) + Prob(2)\n",
    "\n",
    "= binomial[0] + binomial[1] + binomial[2]"
   ]
  },
  {
   "cell_type": "code",
   "execution_count": 39,
   "metadata": {},
   "outputs": [
    {
     "name": "stdout",
     "output_type": "stream",
     "text": [
      "0.9884964426207035  is the Answer\n"
     ]
    }
   ],
   "source": [
    "print(sum(binomial[0:3]),\" is the Answer\")"
   ]
  },
  {
   "cell_type": "markdown",
   "metadata": {},
   "source": [
    "#### D : Probability that three or more of them are defective:\n"
   ]
  },
  {
   "cell_type": "markdown",
   "metadata": {},
   "source": [
    "### Solution \n",
    "Prob ( 3 and more)\n",
    "= Prob(3) + Prob(4) + ...Prob(10)\n",
    "\n",
    "= binomial[3] + binomial[4]+ .. binomial[10]\n",
    "\n",
    "= 1 - (binomial[0] + binomial[1]+ binomial[2]) "
   ]
  },
  {
   "cell_type": "code",
   "execution_count": 41,
   "metadata": {},
   "outputs": [
    {
     "name": "stdout",
     "output_type": "stream",
     "text": [
      "0.011503557379296536  is the answer\n",
      "0.011503557379296881  is the answer\n"
     ]
    }
   ],
   "source": [
    "print(1- sum(binomial[0:3]), \" is the answer\")\n",
    "print(sum(binomial[3:]), \" is the answer\")\n"
   ]
  },
  {
   "cell_type": "markdown",
   "metadata": {},
   "source": [
    "## Question 3\n",
    "\n",
    "#### Given Info :\n",
    "Avg cars per week = 3"
   ]
  },
  {
   "cell_type": "markdown",
   "metadata": {},
   "source": [
    "### A: Probability that in given week he will sell some cars \n",
    "#### Solution : \n",
    "\n",
    "- Some cars => one or more\n",
    "- The distribution is poisson so\n",
    "```\n",
    "    P(some cars)= P(one or more)\n",
    "                = 1 - P(no cars)\n",
    "```"
   ]
  },
  {
   "cell_type": "code",
   "execution_count": 33,
   "metadata": {},
   "outputs": [
    {
     "name": "stdout",
     "output_type": "stream",
     "text": [
      "Probability of some cars being sold in a given week is  0.950212931632136\n"
     ]
    }
   ],
   "source": [
    "n = np.arange(0,20);\n",
    "rate = 3;\n",
    "poisson_dist = stats.poisson.pmf(n,rate)\n",
    "# print(poisson_dist)\n",
    "# print('');\n",
    "print('Probability of some cars being sold in a given week is ', 1-poisson_dist[0])"
   ]
  },
  {
   "cell_type": "markdown",
   "metadata": {},
   "source": [
    "### B: Probability that in a given week he will sell 2 or more but less than 5 cars.\n",
    "\n",
    "#### Solution:\n",
    "\n",
    "Sell 2 or more but less than 5 cars \n",
    "- is equivalent to Prob(2) + Prob(3) + Prob(4)"
   ]
  },
  {
   "cell_type": "code",
   "execution_count": 11,
   "metadata": {},
   "outputs": [
    {
     "name": "stdout",
     "output_type": "stream",
     "text": [
      "0.6161149710523164  is the prob that in a given week he will sell 2 or more but less than 5 cars\n"
     ]
    }
   ],
   "source": [
    "print(sum(poisson_dist[2:5]), \" is the prob that in a given week he will sell 2 or more but less than 5 cars\")"
   ]
  },
  {
   "cell_type": "markdown",
   "metadata": {},
   "source": [
    "### C: Plot the poisson Dist function for Cumulative probability of cars sold per week Vs number of cars per week. \n"
   ]
  },
  {
   "cell_type": "code",
   "execution_count": 32,
   "metadata": {},
   "outputs": [
    {
     "data": {
      "image/png": "[encoded data removed]",
      "text/plain": [
       "<Figure size 432x288 with 2 Axes>"
      ]
     },
     "metadata": {
      "needs_background": "light"
     },
     "output_type": "display_data"
    }
   ],
   "source": [
    "fig, (ax1, ax2) = plt.subplots(1,2);\n",
    "ax1.set_title(\"Cumulative Probability Distribution\")\n",
    "ax1.set_xlabel(\"number of cars sold per week\");\n",
    "ax1.plot(n,cumulative_dist,'o-');\n",
    "ax2.set_title(\"Probability mass function\");\n",
    "ax2.set_xlabel(\"number of cars sold per week\");\n",
    "ax2.plot(n,poisson_dist,'o-');\n",
    "fig.tight_layout()"
   ]
  },
  {
   "cell_type": "markdown",
   "metadata": {},
   "source": [
    "## Question 4\n",
    "\n",
    "#### Given Info:\n",
    "percentage of orders that are accurate = 86.8%.\n",
    "No of orders = 3\n",
    "\n",
    "### A: Probability that all three orders are correct?\n",
    "\n",
    "#### Solution :\n",
    "- The probability follows <b>binomial distribution </b> because each order placed to a bot will be either correctly or incorrectly recognised. \n",
    "\n",
    "```\n",
    "Probability that all three order are correct \n",
    " =  P( 1st order correct) * P(2nd correct) * P(3rd order correct)\n",
    "``` \n",
    "(We multiply them because they are independent events)"
   ]
  },
  {
   "cell_type": "code",
   "execution_count": 38,
   "metadata": {},
   "outputs": [
    {
     "name": "stdout",
     "output_type": "stream",
     "text": [
      "probability that all three orders are correct is  0.653972032\n"
     ]
    }
   ],
   "source": [
    "order  = np.arange(0,4);\n",
    "p = 0.868;\n",
    "binary_dist = stats.binom.pmf(order,3,p)\n",
    "print(\"probability that all three orders are correct is \",binary_dist[3])"
   ]
  },
  {
   "cell_type": "markdown",
   "metadata": {},
   "source": [
    "### B : Probability that none of three orders will be recognised correctly?\n",
    "\n",
    "#### Solution : \n",
    "```\n",
    "Probability that none of orders are correct \n",
    "    = P(1st incorrect) * P(2nd incorrect) * P(3rd incorrect)  \n",
    "```"
   ]
  },
  {
   "cell_type": "code",
   "execution_count": 39,
   "metadata": {},
   "outputs": [
    {
     "name": "stdout",
     "output_type": "stream",
     "text": [
      "Probability that none are correct is  0.002299968\n"
     ]
    }
   ],
   "source": [
    "print(\"Probability that none are correct is \",binary_dist[0]);"
   ]
  },
  {
   "cell_type": "markdown",
   "metadata": {},
   "source": [
    "### C: Probability that atleast two of three orders are correct?\n",
    "\n",
    "#### Solution\n",
    "```\n",
    "Atleast two  = P (2 orders correct) + P (3 orders  correct) \n",
    "```"
   ]
  },
  {
   "cell_type": "code",
   "execution_count": 41,
   "metadata": {},
   "outputs": [
    {
     "name": "stdout",
     "output_type": "stream",
     "text": [
      "Probability that atleast two are correct is  0.9523279359999999\n"
     ]
    }
   ],
   "source": [
    "print(\"Probability that atleast two are correct is \",sum(binary_dist[2:]))"
   ]
  },
  {
   "cell_type": "markdown",
   "metadata": {},
   "source": [
    "## Question 5 \n",
    "#### Given Info: \n",
    "No of professionals= 300\n",
    "\n",
    "Mean  = 60\n",
    "\n",
    "Standard deviation = 12\n",
    "\n",
    "Distribution is normal"
   ]
  },
  {
   "cell_type": "markdown",
   "metadata": {},
   "source": [
    "### A: Percentage of students who score more than 80\n",
    "#### Solution : \n",
    "\n",
    "probability that students are More than 80 =  1 - prob < 80"
   ]
  },
  {
   "cell_type": "code",
   "execution_count": 46,
   "metadata": {},
   "outputs": [],
   "source": [
    "mean = 60\n",
    "std= 12"
   ]
  },
  {
   "cell_type": "code",
   "execution_count": 47,
   "metadata": {},
   "outputs": [
    {
     "name": "stdout",
     "output_type": "stream",
     "text": [
      "percentage of students who scored more than 80 is  4.77903522728147\n"
     ]
    }
   ],
   "source": [
    "#z = (x- mean) /std_deviation\n",
    "x = 80\n",
    "z = (80 - mean)/std\n",
    "cdf_left = stats.norm.cdf(z); ## this give the prob of students who scores < 80\n",
    "print(\"percentage of students who scored more than 80 is \",(1-cdf_left)*100)"
   ]
  },
  {
   "cell_type": "markdown",
   "metadata": {},
   "source": [
    "### B: Percentage of students whose score is < 50\n",
    "#### Solution:\n"
   ]
  },
  {
   "cell_type": "code",
   "execution_count": 50,
   "metadata": {},
   "outputs": [
    {
     "name": "stdout",
     "output_type": "stream",
     "text": [
      "-0.8333333333333334\n",
      "percentaget of students who scored < 50 is  20.232838096364308\n"
     ]
    }
   ],
   "source": [
    "#step1 : compute z \n",
    "z = (50-mean)/std;\n",
    "#Calculate prob \n",
    "prob  = stats.norm.cdf(z);\n",
    "#print answer\n",
    "print(\"percentaget of students who scored < 50 is \",(prob) * 100)"
   ]
  },
  {
   "cell_type": "markdown",
   "metadata": {},
   "source": [
    "### C: What is the distinction mark so that 10 % students are awarded?\n",
    "\n",
    "#### Solution :\n",
    "\n",
    "Lets say that the mark is X,\n",
    "\n",
    "Probability of number of students that score atleast X is 10 % = 0.1\n",
    "\n",
    "This value corresponds to the area under the curve from the score X and above.\n",
    "\n",
    "To find X, consider the area under the curve for all values < X = 0.9\n",
    "\n",
    "Objective: Find X"
   ]
  },
  {
   "cell_type": "code",
   "execution_count": 53,
   "metadata": {},
   "outputs": [
    {
     "name": "stdout",
     "output_type": "stream",
     "text": [
      "The distinction mark should be  75.3786187865352\n"
     ]
    }
   ],
   "source": [
    "#computing z score based on probability\n",
    "z = stats.norm.ppf(.9);\n",
    "# z = (x-mean)/std => x = z*std +mean\n",
    "X = z*std+ mean;\n",
    "print(\"The distinction mark should be \",X);"
   ]
  },
  {
   "cell_type": "markdown",
   "metadata": {},
   "source": [
    "#### Let's verify our distinction mark by computing prob of students scoring > 75.37"
   ]
  },
  {
   "cell_type": "code",
   "execution_count": 56,
   "metadata": {},
   "outputs": [
    {
     "name": "stdout",
     "output_type": "stream",
     "text": [
      "10.012610657277365\n"
     ]
    }
   ],
   "source": [
    "print((1- stats.norm.cdf(75.37,mean, std)) * 100);"
   ]
  },
  {
   "cell_type": "markdown",
   "metadata": {},
   "source": [
    "# PART II : PROJECT BASED"
   ]
  }
 ],
 "metadata": {
  "kernelspec": {
   "display_name": "Python 3",
   "language": "python",
   "name": "python3"
  },
  "language_info": {
   "codemirror_mode": {
    "name": "ipython",
    "version": 3
   },
   "file_extension": ".py",
   "mimetype": "text/x-python",
   "name": "python",
   "nbconvert_exporter": "python",
   "pygments_lexer": "ipython3",
   "version": "3.8.5"
  }
 },
 "nbformat": 4,
 "nbformat_minor": 4
}
